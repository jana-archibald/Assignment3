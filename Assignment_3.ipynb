{
 "cells": [
  {
   "cell_type": "markdown",
   "metadata": {
    "editable": false
   },
   "source": [
    "# Jupyter Assignment 3 Due August 3\n",
    "\n",
    "\n",
    "###  These questions will be graded based on correctness, please take the time to make a final answer.  Ensure you have completely answered all of the questions, remove code that didn't run, or was not what was needed.\n",
    "\n",
    "#### Some of the questions come from our textbook, if so I have indecated the question number.\n",
    "\n",
    "#### If you need to add a code or markdown block you can use the `+` symbol above.  To remove a block use the scissors.\n",
    "\n",
    "#### I have included the normalplot code below, if you want to use it don't forget to run the code."
   ]
  },
  {
   "cell_type": "code",
   "execution_count": null,
   "metadata": {
    "editable": false
   },
   "outputs": [],
   "source": [
    "normalplot<-function(m,sd,region=0){\n",
    "  x<-seq(m-(3.5)*sd,m+(3.5)*sd,length=1000)\n",
    "  y<-dnorm(x,m,sd)\n",
    "  plot(x,y,type=\"l\",xlab=\"\",ylab=\"\", bty=\"n\", yaxt=\"n\")\n",
    "  h <- dnorm(m,m,sd)\n",
    "  z<-x[x>region[1]]\n",
    "  z<-z[z<region[2]]\n",
    "  polygon(c(region[1],z,region[2]),\n",
    "          c(0,dnorm(z,m,sd),0),col=\"gray\")\n",
    "  abline(v=m)\n",
    "  abline(h=0)}"
   ]
  },
  {
   "attachments": {},
   "cell_type": "markdown",
   "metadata": {
    "editable": false
   },
   "source": [
    "### Question 1\n",
    "Run the code below to plot a binomial distribution with some area coloured in blue.\n",
    "\n",
    "\ta. Write what the area is using probability notation.\n",
    "    \n",
    "\tb. Write a sentence describing the area in terms of probability.\n",
    "    \n",
    "    c. Estimate the area.\n",
    "    \n",
    "    d. Compute the area."
   ]
  },
  {
   "cell_type": "code",
   "execution_count": null,
   "metadata": {
    "editable": false
   },
   "outputs": [],
   "source": [
    "barplot(dbinom(c(0:15),15,0.4),\n",
    "        names.arg=c(0:15),\n",
    "        xlab=\"Number of Successes\",\n",
    "        ylab=\"Probability\",\n",
    "        main=\"Binomial Distribution with n=15 p=0.40\",\n",
    "        col=c(0,0,0,0,0,0,13,13,13,13,0,0,0,0,0,0,0,0,0))"
   ]
  },
  {
   "cell_type": "markdown",
   "metadata": {},
   "source": [
    "Answer 1 a here"
   ]
  },
  {
   "cell_type": "markdown",
   "metadata": {},
   "source": [
    "Answer 1 b here"
   ]
  },
  {
   "cell_type": "markdown",
   "metadata": {},
   "source": [
    "Answer 1 c here"
   ]
  },
  {
   "cell_type": "code",
   "execution_count": null,
   "metadata": {},
   "outputs": [],
   "source": []
  },
  {
   "cell_type": "markdown",
   "metadata": {},
   "source": [
    "Answer 1 d here"
   ]
  },
  {
   "cell_type": "markdown",
   "metadata": {
    "editable": false
   },
   "source": [
    "## Question 2  (Openintro 3.10 Guessing on an exam). \n",
    "\n",
    "\n",
    "In a multiple choice exam, there are 5 questions and 4 choices for each\n",
    "question (a, b, c, d). Nancy has not studied for the exam at all and decides to randomly guess the answers.\n",
    "\n",
    "\n",
    "What is the probability that:\n",
    "- (a) the first question she gets right is the 5th question?\n",
    "- (b) she gets all of the questions right?\n",
    "- (c) she gets at least one question right?\n",
    "\n",
    "You should show your work and use P for probabilities, you can use a code block as a calculator."
   ]
  },
  {
   "cell_type": "code",
   "execution_count": null,
   "metadata": {},
   "outputs": [],
   "source": []
  },
  {
   "cell_type": "code",
   "execution_count": null,
   "metadata": {},
   "outputs": [],
   "source": []
  },
  {
   "cell_type": "markdown",
   "metadata": {},
   "source": [
    "Answer 2 a here "
   ]
  },
  {
   "cell_type": "code",
   "execution_count": null,
   "metadata": {},
   "outputs": [],
   "source": []
  },
  {
   "cell_type": "code",
   "execution_count": null,
   "metadata": {},
   "outputs": [],
   "source": []
  },
  {
   "cell_type": "markdown",
   "metadata": {},
   "source": [
    "Answer 2 b here"
   ]
  },
  {
   "cell_type": "code",
   "execution_count": null,
   "metadata": {},
   "outputs": [],
   "source": []
  },
  {
   "cell_type": "code",
   "execution_count": null,
   "metadata": {},
   "outputs": [],
   "source": []
  },
  {
   "cell_type": "markdown",
   "metadata": {},
   "source": [
    "Answer 2 c here"
   ]
  },
  {
   "cell_type": "markdown",
   "metadata": {
    "editable": false
   },
   "source": [
    "## Question 3    (Openintro 3.12 School absences.)\n",
    "\n",
    "Data collected at elementary schools in DeKalb County, GA suggest that each\n",
    "year roughly 25% of students miss exactly one day of school, 15% miss 2 days, and 28% miss 3 or more days\n",
    "due to sickness.\n",
    "\n",
    "\n",
    "- (a) What is the probability that a student chosen at random doesn't miss any days of school due to sickness\n",
    "this year?\n",
    "- (b) What is the probability that a student chosen at random misses no more than one day?\n",
    "- (c) What is the probability that a student chosen at random misses at least one day?\n",
    "- (d) If a parent has two kids at a DeKalb County elementary school, what is the probability that neither kid\n",
    "will miss any school? Note any assumption you must make to answer this question.\n",
    "- (e) If a parent has two kids at a DeKalb County elementary school, what is the probability that both kids\n",
    "will miss some school, i.e. at least one day? Note any assumption you make.\n",
    "- (f) If you made an assumption in part (d) or (e), do you think it was reasonable? If you didn't make any\n",
    "assumptions, double check your earlier answers."
   ]
  },
  {
   "cell_type": "code",
   "execution_count": null,
   "metadata": {},
   "outputs": [],
   "source": []
  },
  {
   "cell_type": "markdown",
   "metadata": {},
   "source": [
    "Answer 3 a"
   ]
  },
  {
   "cell_type": "code",
   "execution_count": null,
   "metadata": {},
   "outputs": [],
   "source": []
  },
  {
   "cell_type": "markdown",
   "metadata": {},
   "source": [
    "Answer 3 b"
   ]
  },
  {
   "cell_type": "code",
   "execution_count": null,
   "metadata": {},
   "outputs": [],
   "source": []
  },
  {
   "cell_type": "markdown",
   "metadata": {},
   "source": [
    "Answer 3 c"
   ]
  },
  {
   "cell_type": "code",
   "execution_count": null,
   "metadata": {},
   "outputs": [],
   "source": []
  },
  {
   "cell_type": "markdown",
   "metadata": {},
   "source": [
    "Answer 3d"
   ]
  },
  {
   "cell_type": "code",
   "execution_count": null,
   "metadata": {},
   "outputs": [],
   "source": []
  },
  {
   "cell_type": "markdown",
   "metadata": {},
   "source": [
    "Answer 3 e"
   ]
  },
  {
   "cell_type": "code",
   "execution_count": null,
   "metadata": {},
   "outputs": [],
   "source": []
  },
  {
   "cell_type": "markdown",
   "metadata": {},
   "source": [
    "Answer 3 f"
   ]
  },
  {
   "cell_type": "markdown",
   "metadata": {
    "editable": false
   },
   "source": [
    "### Question 4  ( Open Intro 4.4 and 4.6  Triathlon times, Part I. and II.)\n",
    "\n",
    "In triathlons, it is common for racers to be placed into age and gender groups.\n",
    "\n",
    "\n",
    "Friends Leo and Mary both completed the Hermosa Beach Triathlon, where Leo competed in the Men, Ages\n",
    "30 - 34 group while Mary competed in the Women, Ages 25 - 29 group. Leo completed the race in 1:22:28\n",
    "(4948 seconds), while Mary completed the race in 1:31:53 (5513 seconds). Obviously Leo finished faster,\n",
    "but they are curious about how they did within their respective groups. Can you help them? Here is some\n",
    "information on the performance of their groups:\n",
    "\n",
    "- The finishing times of the Men, Ages 30 - 34 group has a mean of 4313 seconds with a standard\n",
    "deviation of 583 seconds.\n",
    "-  The finishing times of the Women, Ages 25 - 29 group has a mean of 5261 seconds with a standard\n",
    "deviation of 807 seconds.\n",
    "-  The distributions of finishing times for both groups are approximately Normal.\n",
    "Remember: a better performance corresponds to a faster finish.\n",
    "\n",
    "\n",
    "a. Write down the short-hand for these two normal distributions.\n",
    "\n",
    "b.  What are the Z-scores for Leo's and Mary's finishing times? What do these Z-scores tell you?\n",
    "\n",
    "c.  Did Leo or Mary rank better in their respective groups? Explain your reasoning.\n",
    "\n",
    "d.   What percent of the triathletes did Leo finish faster than in his group?\n",
    "\n",
    "e. What percent of the triathletes did Mary finish faster than in her group?\n",
    "\n",
    "f. If the distributions of finishing times are not nearly normal, would your answers to parts (b) - (e) change?\n",
    "Explain your reasoning.\n",
    "\n",
    "g.  The cutoff time for the fastest 5% of athletes in the men's group, i.e. those who took the shortest 5%\n",
    "of time to finish.\n",
    "\n",
    "\n",
    "h.  The cutoff time for the slowest 10% of athletes in the women's group.\n",
    "\n",
    "\n",
    "### For parts g and h you must include a plot shading the appropriate area."
   ]
  },
  {
   "cell_type": "code",
   "execution_count": null,
   "metadata": {},
   "outputs": [],
   "source": []
  },
  {
   "cell_type": "markdown",
   "metadata": {},
   "source": [
    "Answer 4 A"
   ]
  },
  {
   "cell_type": "code",
   "execution_count": null,
   "metadata": {},
   "outputs": [],
   "source": []
  },
  {
   "cell_type": "markdown",
   "metadata": {},
   "source": [
    "Answer 4 b\n"
   ]
  },
  {
   "cell_type": "code",
   "execution_count": null,
   "metadata": {},
   "outputs": [],
   "source": []
  },
  {
   "cell_type": "markdown",
   "metadata": {},
   "source": [
    "Answer 4 c"
   ]
  },
  {
   "cell_type": "code",
   "execution_count": null,
   "metadata": {},
   "outputs": [],
   "source": []
  },
  {
   "cell_type": "markdown",
   "metadata": {},
   "source": [
    "Answer 4 d"
   ]
  },
  {
   "cell_type": "code",
   "execution_count": null,
   "metadata": {},
   "outputs": [],
   "source": []
  },
  {
   "cell_type": "markdown",
   "metadata": {},
   "source": [
    "Answer 4 e"
   ]
  },
  {
   "cell_type": "code",
   "execution_count": null,
   "metadata": {},
   "outputs": [],
   "source": []
  },
  {
   "cell_type": "markdown",
   "metadata": {},
   "source": [
    "Answer 4 f"
   ]
  },
  {
   "cell_type": "code",
   "execution_count": null,
   "metadata": {},
   "outputs": [],
   "source": []
  },
  {
   "cell_type": "markdown",
   "metadata": {},
   "source": [
    "Answer 4 g"
   ]
  },
  {
   "cell_type": "code",
   "execution_count": null,
   "metadata": {},
   "outputs": [],
   "source": []
  },
  {
   "cell_type": "markdown",
   "metadata": {},
   "source": [
    "Answer 4 h"
   ]
  },
  {
   "cell_type": "markdown",
   "metadata": {
    "editable": false
   },
   "source": [
    "## Question 5 (Textbook 4.1.8 CAPM.) Modified\n",
    "\n",
    "The Capital Asset Pricing Model (CAPM) is a financial model that assumes returns on a\n",
    "portfolio are normally distributed. Suppose a portfolio has an average annual return of 14.7% (i.e. an\n",
    "average gain of 14.7%) with a standard deviation of 33%. A return of 0% means the value of the portfolio\n",
    "doesn’t change, a negative return means that the portfolio loses money, and a positive return means that\n",
    "the portfolio gains money.\n",
    "\n",
    "(a) Use the normalplot function to plot this distribution.\n",
    "\n",
    "(b) What percent of years does this portfolio lose money, i.e. have a return less than 0%?\n",
    "\n",
    "\n",
    "(c) What is the cutoff for the highest 15% of annual returns with this portfolio?\n"
   ]
  },
  {
   "cell_type": "code",
   "execution_count": null,
   "metadata": {},
   "outputs": [],
   "source": []
  },
  {
   "cell_type": "code",
   "execution_count": null,
   "metadata": {},
   "outputs": [],
   "source": []
  },
  {
   "cell_type": "markdown",
   "metadata": {},
   "source": [
    "Answer 5 b"
   ]
  },
  {
   "cell_type": "code",
   "execution_count": null,
   "metadata": {},
   "outputs": [],
   "source": []
  },
  {
   "cell_type": "markdown",
   "metadata": {},
   "source": [
    "Answer 5 c"
   ]
  }
 ],
 "metadata": {
  "celltoolbar": "Edit Metadata",
  "kernelspec": {
   "display_name": "R",
   "language": "R",
   "name": "ir"
  },
  "language_info": {
   "codemirror_mode": "r",
   "file_extension": ".r",
   "mimetype": "text/x-r-source",
   "name": "R",
   "pygments_lexer": "r",
   "version": "3.6.2"
  }
 },
 "nbformat": 4,
 "nbformat_minor": 4
}
